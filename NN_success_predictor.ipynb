{
 "cells": [
  {
   "cell_type": "code",
   "execution_count": 590,
   "metadata": {
    "collapsed": false
   },
   "outputs": [],
   "source": [
    "import pandas as pd\n",
    "import numpy as np\n",
    "import collections\n",
    "import random\n",
    "import gender_guesser.detector as gender"
   ]
  },
  {
   "cell_type": "code",
   "execution_count": 591,
   "metadata": {
    "collapsed": false
   },
   "outputs": [],
   "source": [
    "businesses = pd.read_csv('restaurants.csv')\n",
    "businesses = businesses.loc[businesses['review_count'] >= 100] # 449\n",
    "\n",
    "#businesses"
   ]
  },
  {
   "cell_type": "code",
   "execution_count": 592,
   "metadata": {
    "collapsed": true
   },
   "outputs": [],
   "source": [
    "reviews = pd.read_csv('cleaned_reviews.csv')\n",
    "reviews = reviews.drop_duplicates()\n",
    "reviews = reviews[pd.notnull(reviews['author'])]"
   ]
  },
  {
   "cell_type": "markdown",
   "metadata": {},
   "source": [
    "### Add # scraped reviews"
   ]
  },
  {
   "cell_type": "code",
   "execution_count": 593,
   "metadata": {
    "collapsed": true
   },
   "outputs": [],
   "source": [
    "def add_scraped_count (row):\n",
    "    return len(reviews.loc[reviews['business'] == row['id']])\n",
    "\n",
    "businesses['num_scraped_reviews'] = businesses.apply (lambda row: add_scraped_count (row), axis=1)"
   ]
  },
  {
   "cell_type": "markdown",
   "metadata": {},
   "source": [
    "### Scraped percentage"
   ]
  },
  {
   "cell_type": "code",
   "execution_count": 594,
   "metadata": {
    "collapsed": true
   },
   "outputs": [],
   "source": [
    "def add_scraped_perc (row):\n",
    "    return row['num_scraped_reviews'] / row['review_count']\n",
    "\n",
    "businesses['perc_scraped_reviews'] = businesses.apply (lambda row: add_scraped_perc (row), axis=1)"
   ]
  },
  {
   "cell_type": "markdown",
   "metadata": {},
   "source": [
    "### Filter businesses & reviews"
   ]
  },
  {
   "cell_type": "code",
   "execution_count": 595,
   "metadata": {
    "collapsed": false
   },
   "outputs": [],
   "source": [
    "# Filter out businesses with less than 30 reviews\n",
    "businesses = businesses.loc[businesses['num_scraped_reviews'] >= 30] # 261 businesses"
   ]
  },
  {
   "cell_type": "code",
   "execution_count": 596,
   "metadata": {
    "collapsed": true
   },
   "outputs": [],
   "source": [
    "# filter reviews on the ids\n",
    "b_ids = businesses['id'].unique()\n",
    "reviews = reviews[reviews['business'].isin(b_ids)]"
   ]
  },
  {
   "cell_type": "markdown",
   "metadata": {},
   "source": [
    "### Add gender column"
   ]
  },
  {
   "cell_type": "code",
   "execution_count": 597,
   "metadata": {
    "collapsed": false
   },
   "outputs": [],
   "source": [
    "gd = gender.Detector()\n",
    "\n",
    "def add_gender (row):\n",
    "    return gd.get_gender(row['author'].split()[0].capitalize())\n",
    "\n",
    "reviews['gender'] = reviews.apply (lambda row: add_gender (row), axis=1)\n",
    "\n",
    "reviews.ix[reviews.gender == 'mostly_male', 'gender'] = 'male'\n",
    "reviews.ix[reviews.gender == 'mostly_female', 'gender'] = 'female'"
   ]
  },
  {
   "cell_type": "markdown",
   "metadata": {},
   "source": [
    "### Split coordinate col"
   ]
  },
  {
   "cell_type": "code",
   "execution_count": 598,
   "metadata": {
    "collapsed": true
   },
   "outputs": [],
   "source": [
    "businesses = businesses[pd.notnull(businesses['coordinate'])]\n",
    "businesses['lat'], businesses['long'] = zip(*businesses['coordinate'].apply(lambda x: x.split(',', 1)))\n",
    "businesses = businesses.drop('coordinate', 1)"
   ]
  },
  {
   "cell_type": "markdown",
   "metadata": {},
   "source": [
    "### Add F/M frequency"
   ]
  },
  {
   "cell_type": "code",
   "execution_count": 599,
   "metadata": {
    "collapsed": true
   },
   "outputs": [],
   "source": [
    "def add_f_freq (row):\n",
    "    curr_reviews = reviews.loc[reviews['business'] == row['id']]\n",
    "    return round(len(curr_reviews.loc[curr_reviews['gender'] == 'female']) / len(curr_reviews), 4)"
   ]
  },
  {
   "cell_type": "code",
   "execution_count": 600,
   "metadata": {
    "collapsed": true
   },
   "outputs": [],
   "source": [
    "def add_m_freq (row):\n",
    "    curr_reviews = reviews.loc[reviews['business'] == row['id']]\n",
    "    return round(len(curr_reviews.loc[curr_reviews['gender'] == 'male']) / len(curr_reviews), 4)"
   ]
  },
  {
   "cell_type": "code",
   "execution_count": 601,
   "metadata": {
    "collapsed": false
   },
   "outputs": [],
   "source": [
    "businesses['f_freq'] = businesses.apply (lambda row: add_f_freq (row), axis=1)"
   ]
  },
  {
   "cell_type": "code",
   "execution_count": 602,
   "metadata": {
    "collapsed": true
   },
   "outputs": [],
   "source": [
    "businesses['m_freq'] = businesses.apply (lambda row: add_m_freq (row), axis=1)"
   ]
  },
  {
   "cell_type": "code",
   "execution_count": 603,
   "metadata": {
    "collapsed": false
   },
   "outputs": [],
   "source": [
    "#businesses"
   ]
  },
  {
   "cell_type": "markdown",
   "metadata": {},
   "source": [
    "### Add F/M popularity"
   ]
  },
  {
   "cell_type": "code",
   "execution_count": 604,
   "metadata": {
    "collapsed": true
   },
   "outputs": [],
   "source": [
    "def add_f_pop (row):\n",
    "    curr_reviews = reviews.loc[reviews['business'] == row['id']]\n",
    "    return round(curr_reviews.loc[curr_reviews['gender'] == 'female']['stars'].mean(), 4)"
   ]
  },
  {
   "cell_type": "code",
   "execution_count": 605,
   "metadata": {
    "collapsed": true
   },
   "outputs": [],
   "source": [
    "def add_m_pop (row):\n",
    "    curr_reviews = reviews.loc[reviews['business'] == row['id']]\n",
    "    return round(curr_reviews.loc[curr_reviews['gender'] == 'male']['stars'].mean(), 4)"
   ]
  },
  {
   "cell_type": "code",
   "execution_count": 606,
   "metadata": {
    "collapsed": true
   },
   "outputs": [],
   "source": [
    "businesses['f_pop'] = businesses.apply (lambda row: add_f_pop (row), axis=1)"
   ]
  },
  {
   "cell_type": "code",
   "execution_count": 607,
   "metadata": {
    "collapsed": true
   },
   "outputs": [],
   "source": [
    "businesses['m_pop'] = businesses.apply (lambda row: add_m_pop (row), axis=1)"
   ]
  },
  {
   "cell_type": "code",
   "execution_count": 608,
   "metadata": {
    "collapsed": false
   },
   "outputs": [],
   "source": [
    "#len(businesses)"
   ]
  },
  {
   "cell_type": "markdown",
   "metadata": {},
   "source": [
    "### Split into training, validation, and test sets"
   ]
  },
  {
   "cell_type": "code",
   "execution_count": 609,
   "metadata": {
    "collapsed": true
   },
   "outputs": [],
   "source": [
    "indexes = list(businesses.index)"
   ]
  },
  {
   "cell_type": "code",
   "execution_count": 610,
   "metadata": {
    "collapsed": true
   },
   "outputs": [],
   "source": [
    "tr_index = round(len(indexes) * 0.7)\n",
    "v_index = round(len(indexes) * 0.1)"
   ]
  },
  {
   "cell_type": "code",
   "execution_count": 611,
   "metadata": {
    "collapsed": true
   },
   "outputs": [],
   "source": [
    "random.shuffle(indexes)"
   ]
  },
  {
   "cell_type": "code",
   "execution_count": 612,
   "metadata": {
    "collapsed": true
   },
   "outputs": [],
   "source": [
    "training = indexes[:tr_index]\n",
    "validation = indexes[tr_index:(tr_index + v_index)]\n",
    "test = indexes[(tr_index + v_index):]"
   ]
  },
  {
   "cell_type": "code",
   "execution_count": 613,
   "metadata": {
    "collapsed": true
   },
   "outputs": [],
   "source": [
    "training_set = businesses.ix[training]\n",
    "validation_set = businesses.ix[validation]\n",
    "test_set = businesses.ix[test]"
   ]
  },
  {
   "cell_type": "code",
   "execution_count": null,
   "metadata": {
    "collapsed": true
   },
   "outputs": [],
   "source": []
  },
  {
   "cell_type": "code",
   "execution_count": null,
   "metadata": {
    "collapsed": true
   },
   "outputs": [],
   "source": []
  },
  {
   "cell_type": "code",
   "execution_count": null,
   "metadata": {
    "collapsed": true
   },
   "outputs": [],
   "source": []
  },
  {
   "cell_type": "markdown",
   "metadata": {},
   "source": [
    "# Start messing with training data"
   ]
  },
  {
   "cell_type": "markdown",
   "metadata": {},
   "source": [
    "### Add benchmark review count"
   ]
  },
  {
   "cell_type": "code",
   "execution_count": 614,
   "metadata": {
    "collapsed": false
   },
   "outputs": [],
   "source": [
    "#training_set"
   ]
  },
  {
   "cell_type": "code",
   "execution_count": 615,
   "metadata": {
    "collapsed": true
   },
   "outputs": [],
   "source": [
    "def add_bench_count (row):\n",
    "    categories = row['categories'].split(',')\n",
    "    # categories = [s.strip() for s in categories]\n",
    "    # categories = list(set(categories))\n",
    "    avg_counts = []\n",
    "    for c in categories:\n",
    "        avg_counts.append(businesses.loc[businesses['categories'].str.contains(c)]['review_count'].mean())\n",
    "    avg_counts = [x for x in avg_counts if str(x) != 'nan']\n",
    "    return sum(avg_counts) / float(len(avg_counts))"
   ]
  },
  {
   "cell_type": "code",
   "execution_count": 616,
   "metadata": {
    "collapsed": false
   },
   "outputs": [
    {
     "name": "stderr",
     "output_type": "stream",
     "text": [
      "/Users/nordale1/anaconda/lib/python3.5/site-packages/ipykernel/__main__.py:7: UserWarning: This pattern has match groups. To actually get the groups, use str.extract.\n"
     ]
    }
   ],
   "source": [
    "training_set['bench_count'] = training_set.apply (lambda row: add_bench_count (row), axis=1)"
   ]
  },
  {
   "cell_type": "code",
   "execution_count": 617,
   "metadata": {
    "collapsed": false
   },
   "outputs": [
    {
     "name": "stderr",
     "output_type": "stream",
     "text": [
      "/Users/nordale1/anaconda/lib/python3.5/site-packages/ipykernel/__main__.py:7: UserWarning: This pattern has match groups. To actually get the groups, use str.extract.\n"
     ]
    }
   ],
   "source": [
    "validation_set['bench_count'] = validation_set.apply (lambda row: add_bench_count (row), axis=1)"
   ]
  },
  {
   "cell_type": "code",
   "execution_count": 618,
   "metadata": {
    "collapsed": false
   },
   "outputs": [],
   "source": [
    "#training_set"
   ]
  },
  {
   "cell_type": "markdown",
   "metadata": {},
   "source": [
    "### Add benchmark review avg"
   ]
  },
  {
   "cell_type": "code",
   "execution_count": 619,
   "metadata": {
    "collapsed": true
   },
   "outputs": [],
   "source": [
    "def add_bench_avg (row):\n",
    "    categories = row['categories'].split(',')\n",
    "    # categories = [s.strip() for s in categories]\n",
    "    # categories = list(set(categories))\n",
    "    avg_averages = []\n",
    "    for c in categories:\n",
    "        avg_averages.append(businesses.loc[businesses['categories'].str.contains(c)]['rating'].mean())\n",
    "    avg_averages = [x for x in avg_averages if str(x) != 'nan']\n",
    "    return sum(avg_averages) / float(len(avg_averages))"
   ]
  },
  {
   "cell_type": "code",
   "execution_count": 620,
   "metadata": {
    "collapsed": false
   },
   "outputs": [
    {
     "name": "stderr",
     "output_type": "stream",
     "text": [
      "/Users/nordale1/anaconda/lib/python3.5/site-packages/ipykernel/__main__.py:7: UserWarning: This pattern has match groups. To actually get the groups, use str.extract.\n"
     ]
    }
   ],
   "source": [
    "training_set['bench_avg'] = training_set.apply (lambda row: add_bench_avg (row), axis=1)"
   ]
  },
  {
   "cell_type": "code",
   "execution_count": 621,
   "metadata": {
    "collapsed": false
   },
   "outputs": [
    {
     "name": "stderr",
     "output_type": "stream",
     "text": [
      "/Users/nordale1/anaconda/lib/python3.5/site-packages/ipykernel/__main__.py:7: UserWarning: This pattern has match groups. To actually get the groups, use str.extract.\n"
     ]
    }
   ],
   "source": [
    "validation_set['bench_avg'] = validation_set.apply (lambda row: add_bench_avg (row), axis=1)"
   ]
  },
  {
   "cell_type": "code",
   "execution_count": 622,
   "metadata": {
    "collapsed": false
   },
   "outputs": [],
   "source": [
    "#training_set"
   ]
  },
  {
   "cell_type": "markdown",
   "metadata": {},
   "source": [
    "### Add whether restaurant is successful or not"
   ]
  },
  {
   "cell_type": "code",
   "execution_count": 623,
   "metadata": {
    "collapsed": true
   },
   "outputs": [],
   "source": [
    "def grade_success (row):\n",
    "    return (row['review_count'] >= row['bench_count']) | (row['rating'] >= row['bench_avg'])"
   ]
  },
  {
   "cell_type": "code",
   "execution_count": 624,
   "metadata": {
    "collapsed": true
   },
   "outputs": [],
   "source": [
    "training_set['successful?'] = training_set.apply (lambda row: grade_success (row), axis=1)"
   ]
  },
  {
   "cell_type": "code",
   "execution_count": 625,
   "metadata": {
    "collapsed": true
   },
   "outputs": [],
   "source": [
    "validation_set['successful?'] = validation_set.apply (lambda row: grade_success (row), axis=1)"
   ]
  },
  {
   "cell_type": "markdown",
   "metadata": {},
   "source": [
    "### K-NN"
   ]
  },
  {
   "cell_type": "code",
   "execution_count": 626,
   "metadata": {
    "collapsed": true
   },
   "outputs": [],
   "source": [
    "import math"
   ]
  },
  {
   "cell_type": "code",
   "execution_count": 627,
   "metadata": {
    "collapsed": false
   },
   "outputs": [],
   "source": [
    "def dist(row1, row2):\n",
    "    distance = 0\n",
    "    \n",
    "    categories1 = row1['categories'].split(',')\n",
    "    categories1 = [s.strip() for s in categories1]\n",
    "    categories1 = list(set(categories1))\n",
    "    \n",
    "    categories2 = row2['categories'].split(',')\n",
    "    categories2 = [s.strip() for s in categories2]\n",
    "    categories2 = list(set(categories2))\n",
    "    \n",
    "    non_shared_count = len([item for item in categories1 if item not in categories2] + \n",
    "                           [item for item in categories2 if item not in categories1])\n",
    "    distance += non_shared_count / (len(categories1) + len(categories2))\n",
    "    \n",
    "    #distance += int(bool(set(categories1) & set(categories2)))\n",
    "    \n",
    "    distance += pow((float(row1['lat']) - float(row2['lat'])), 2)\n",
    "    distance += pow((float(row1['long']) - float(row2['long'])), 2)\n",
    "    \n",
    "    distance += pow(((row1['f_freq'] / (row1['f_freq'] + row1['m_freq'])) - \n",
    "                     (row2['f_freq'] / (row2['f_freq'] + row2['m_freq']))), 2)\n",
    "    #distance += pow((row1['f_freq'] - row2['f_freq']), 2)\n",
    "    #distance += pow((row1['m_freq'] - row2['m_freq']), 2)\n",
    "    \n",
    "    #distance += pow(((row1['f_pop'] / row1['rating']) - (row2['f_pop'] / row1['rating'])), 2)\n",
    "    distance += pow((row1['f_pop'] - row2['f_pop']), 2)\n",
    "    #distance += pow(((row1['m_pop'] / row1['rating']) - (row2['m_pop'] / row1['rating'])), 2)\n",
    "    distance += pow((row1['m_pop'] - row2['m_pop']), 2)\n",
    "    return math.sqrt(distance)"
   ]
  },
  {
   "cell_type": "code",
   "execution_count": 628,
   "metadata": {
    "collapsed": true
   },
   "outputs": [],
   "source": [
    "def get_k_nn (v_row, k):\n",
    "    copy_training_set = training_set\n",
    "    copy_training_set['curr_dist'] = copy_training_set.apply (lambda row: dist (v_row, row), axis=1)\n",
    "    copy_training_set.sort_values('curr_dist', inplace=True)\n",
    "    neighbors = np.array(copy_training_set.head(n=k)['successful?'])\n",
    "    return np.average(neighbors) >= 0.5"
   ]
  },
  {
   "cell_type": "code",
   "execution_count": 632,
   "metadata": {
    "collapsed": false
   },
   "outputs": [],
   "source": [
    "best_accuracy = 0\n",
    "find_best_k = 0\n",
    "for i in range(1, 20):\n",
    "    if 'knn_estimate' in validation_set:\n",
    "        validation_set = validation_set.drop('knn_estimate', 1)\n",
    "    validation_set['knn_estimate'] = validation_set.apply (lambda row: get_k_nn (row, 20), axis=1)\n",
    "    if len(validation_set.loc[validation_set['successful?'] == validation_set['knn_estimate']]) / float(len(validation_set)) >= best_accuracy:\n",
    "        find_best_k = i\n",
    "        best_accuracy = len(validation_set.loc[validation_set['successful?'] == validation_set['knn_estimate']]) / float(len(validation_set))"
   ]
  },
  {
   "cell_type": "code",
   "execution_count": 633,
   "metadata": {
    "collapsed": false
   },
   "outputs": [
    {
     "data": {
      "text/plain": [
       "19"
      ]
     },
     "execution_count": 633,
     "metadata": {},
     "output_type": "execute_result"
    }
   ],
   "source": [
    "find_best_k"
   ]
  },
  {
   "cell_type": "code",
   "execution_count": 634,
   "metadata": {
    "collapsed": false
   },
   "outputs": [
    {
     "data": {
      "text/plain": [
       "0.8461538461538461"
      ]
     },
     "execution_count": 634,
     "metadata": {},
     "output_type": "execute_result"
    }
   ],
   "source": [
    "best_accuracy"
   ]
  },
  {
   "cell_type": "code",
   "execution_count": null,
   "metadata": {
    "collapsed": true
   },
   "outputs": [],
   "source": []
  }
 ],
 "metadata": {
  "anaconda-cloud": {},
  "kernelspec": {
   "display_name": "Python [default]",
   "language": "python",
   "name": "python3"
  },
  "language_info": {
   "codemirror_mode": {
    "name": "ipython",
    "version": 3
   },
   "file_extension": ".py",
   "mimetype": "text/x-python",
   "name": "python",
   "nbconvert_exporter": "python",
   "pygments_lexer": "ipython3",
   "version": "3.5.2"
  }
 },
 "nbformat": 4,
 "nbformat_minor": 1
}
